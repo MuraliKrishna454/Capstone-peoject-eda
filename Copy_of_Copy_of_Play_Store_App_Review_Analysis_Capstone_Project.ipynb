{
  "nbformat": 4,
  "nbformat_minor": 0,
  "metadata": {
    "kernelspec": {
      "display_name": "Python 3",
      "language": "python",
      "name": "python3"
    },
    "language_info": {
      "codemirror_mode": {
        "name": "ipython",
        "version": 3
      },
      "file_extension": ".py",
      "mimetype": "text/x-python",
      "name": "python",
      "nbconvert_exporter": "python",
      "pygments_lexer": "ipython3",
      "version": "3.6.6"
    },
    "colab": {
      "name": "Copy of Copy of Play Store App Review Analysis - Capstone Project.ipynb",
      "provenance": [],
      "collapsed_sections": [],
      "include_colab_link": true
    }
  },
  "cells": [
    {
      "cell_type": "markdown",
      "metadata": {
        "id": "view-in-github",
        "colab_type": "text"
      },
      "source": [
        "<a href=\"https://colab.research.google.com/github/MuraliKrishna454/Capstone-peoject-eda/blob/Play_Store_App_Review_Analysis_Capstone_Project.ipynb/Copy_of_Copy_of_Play_Store_App_Review_Analysis_Capstone_Project.ipynb\" target=\"_parent\"><img src=\"https://colab.research.google.com/assets/colab-badge.svg\" alt=\"Open In Colab\"/></a>"
      ]
    },
    {
      "cell_type": "markdown",
      "metadata": {
        "id": "Y06xIdG26kRF"
      },
      "source": [
        "## <b> The Play Store apps data has enormous potential to drive app-making businesses to success. Actionable insights can be drawn for developers to work on and capture the Android market. </b>\n",
        "\n",
        "## <b> Each app (row) has values for catergory, rating, size, and more. Another dataset contains customer reviews of the android apps.</b>\n",
        "\n",
        "## <b> Explore and analyze the data to discover key factors responsible for app engagement and success. </b>"
      ]
    },
    {
      "cell_type": "code",
      "metadata": {
        "id": "dByMsuzT8Tnw",
        "colab": {
          "base_uri": "https://localhost:8080/"
        },
        "outputId": "c700d09a-5966-46b5-9757-61d68d638365"
      },
      "source": [
        "from google.colab import drive\n",
        "drive.mount('/content/drive')"
      ],
      "execution_count": null,
      "outputs": [
        {
          "output_type": "stream",
          "name": "stdout",
          "text": [
            "Mounted at /content/drive\n"
          ]
        }
      ]
    },
    {
      "cell_type": "markdown",
      "metadata": {
        "id": "RtF_B_Y7w6XH"
      },
      "source": [
        "## Importing libraries"
      ]
    },
    {
      "cell_type": "code",
      "metadata": {
        "id": "1x5AdmVjw5iB"
      },
      "source": [
        "import pandas as pd\n",
        "import numpy as np\n",
        "import seaborn as sns\n",
        "from matplotlib import pyplot as plt"
      ],
      "execution_count": null,
      "outputs": []
    },
    {
      "cell_type": "markdown",
      "metadata": {
        "id": "Jpwd0B0OxLcS"
      },
      "source": [
        "## Loading file into colab and analysing dataframe"
      ]
    },
    {
      "cell_type": "code",
      "metadata": {
        "id": "GBYKOuBnxQpe",
        "colab": {
          "base_uri": "https://localhost:8080/",
          "height": 114
        },
        "outputId": "33760f66-1908-4295-da6c-38f7bdeb4d76"
      },
      "source": [
        "df = pd.read_csv('/content/drive/MyDrive/capstone project/Copy of Play Store Data.csv')\n",
        "\n",
        "df.head(1)"
      ],
      "execution_count": null,
      "outputs": [
        {
          "output_type": "execute_result",
          "data": {
            "text/html": [
              "<div>\n",
              "<style scoped>\n",
              "    .dataframe tbody tr th:only-of-type {\n",
              "        vertical-align: middle;\n",
              "    }\n",
              "\n",
              "    .dataframe tbody tr th {\n",
              "        vertical-align: top;\n",
              "    }\n",
              "\n",
              "    .dataframe thead th {\n",
              "        text-align: right;\n",
              "    }\n",
              "</style>\n",
              "<table border=\"1\" class=\"dataframe\">\n",
              "  <thead>\n",
              "    <tr style=\"text-align: right;\">\n",
              "      <th></th>\n",
              "      <th>App</th>\n",
              "      <th>Category</th>\n",
              "      <th>Rating</th>\n",
              "      <th>Reviews</th>\n",
              "      <th>Size</th>\n",
              "      <th>Installs</th>\n",
              "      <th>Type</th>\n",
              "      <th>Price</th>\n",
              "      <th>Content Rating</th>\n",
              "      <th>Genres</th>\n",
              "      <th>Last Updated</th>\n",
              "      <th>Current Ver</th>\n",
              "      <th>Android Ver</th>\n",
              "    </tr>\n",
              "  </thead>\n",
              "  <tbody>\n",
              "    <tr>\n",
              "      <th>0</th>\n",
              "      <td>Photo Editor &amp; Candy Camera &amp; Grid &amp; ScrapBook</td>\n",
              "      <td>ART_AND_DESIGN</td>\n",
              "      <td>4.1</td>\n",
              "      <td>159</td>\n",
              "      <td>19M</td>\n",
              "      <td>10,000+</td>\n",
              "      <td>Free</td>\n",
              "      <td>0</td>\n",
              "      <td>Everyone</td>\n",
              "      <td>Art &amp; Design</td>\n",
              "      <td>January 7, 2018</td>\n",
              "      <td>1.0.0</td>\n",
              "      <td>4.0.3 and up</td>\n",
              "    </tr>\n",
              "  </tbody>\n",
              "</table>\n",
              "</div>"
            ],
            "text/plain": [
              "                                              App  ...   Android Ver\n",
              "0  Photo Editor & Candy Camera & Grid & ScrapBook  ...  4.0.3 and up\n",
              "\n",
              "[1 rows x 13 columns]"
            ]
          },
          "metadata": {},
          "execution_count": 7
        }
      ]
    },
    {
      "cell_type": "code",
      "metadata": {
        "id": "ZudhyfEQAlcL",
        "colab": {
          "base_uri": "https://localhost:8080/"
        },
        "outputId": "822c10be-6e07-497a-e47d-7ac898697968"
      },
      "source": [
        "df.shape # shape of dataframe"
      ],
      "execution_count": null,
      "outputs": [
        {
          "output_type": "execute_result",
          "data": {
            "text/plain": [
              "(10841, 13)"
            ]
          },
          "metadata": {},
          "execution_count": 8
        }
      ]
    },
    {
      "cell_type": "code",
      "metadata": {
        "id": "fCaW2WRnAw5W"
      },
      "source": [
        "df_copy = df.copy() #copying complete dataset\n"
      ],
      "execution_count": null,
      "outputs": []
    },
    {
      "cell_type": "code",
      "metadata": {
        "id": "CIF3ed4SBm3c",
        "colab": {
          "base_uri": "https://localhost:8080/",
          "height": 297
        },
        "outputId": "9e9e3b05-17f3-4a2e-9a43-2f02d91cd639"
      },
      "source": [
        "df_copy.describe() # To know Central limit of columns contatining numeric values"
      ],
      "execution_count": null,
      "outputs": [
        {
          "output_type": "execute_result",
          "data": {
            "text/html": [
              "<div>\n",
              "<style scoped>\n",
              "    .dataframe tbody tr th:only-of-type {\n",
              "        vertical-align: middle;\n",
              "    }\n",
              "\n",
              "    .dataframe tbody tr th {\n",
              "        vertical-align: top;\n",
              "    }\n",
              "\n",
              "    .dataframe thead th {\n",
              "        text-align: right;\n",
              "    }\n",
              "</style>\n",
              "<table border=\"1\" class=\"dataframe\">\n",
              "  <thead>\n",
              "    <tr style=\"text-align: right;\">\n",
              "      <th></th>\n",
              "      <th>Rating</th>\n",
              "    </tr>\n",
              "  </thead>\n",
              "  <tbody>\n",
              "    <tr>\n",
              "      <th>count</th>\n",
              "      <td>9367.000000</td>\n",
              "    </tr>\n",
              "    <tr>\n",
              "      <th>mean</th>\n",
              "      <td>4.193338</td>\n",
              "    </tr>\n",
              "    <tr>\n",
              "      <th>std</th>\n",
              "      <td>0.537431</td>\n",
              "    </tr>\n",
              "    <tr>\n",
              "      <th>min</th>\n",
              "      <td>1.000000</td>\n",
              "    </tr>\n",
              "    <tr>\n",
              "      <th>25%</th>\n",
              "      <td>4.000000</td>\n",
              "    </tr>\n",
              "    <tr>\n",
              "      <th>50%</th>\n",
              "      <td>4.300000</td>\n",
              "    </tr>\n",
              "    <tr>\n",
              "      <th>75%</th>\n",
              "      <td>4.500000</td>\n",
              "    </tr>\n",
              "    <tr>\n",
              "      <th>max</th>\n",
              "      <td>19.000000</td>\n",
              "    </tr>\n",
              "  </tbody>\n",
              "</table>\n",
              "</div>"
            ],
            "text/plain": [
              "            Rating\n",
              "count  9367.000000\n",
              "mean      4.193338\n",
              "std       0.537431\n",
              "min       1.000000\n",
              "25%       4.000000\n",
              "50%       4.300000\n",
              "75%       4.500000\n",
              "max      19.000000"
            ]
          },
          "metadata": {},
          "execution_count": 10
        }
      ]
    },
    {
      "cell_type": "code",
      "metadata": {
        "id": "dGkh0rG1P1kv",
        "colab": {
          "base_uri": "https://localhost:8080/"
        },
        "outputId": "fb6e05a1-a11a-49bd-bc07-032225e30017"
      },
      "source": [
        "df_copy.info()"
      ],
      "execution_count": null,
      "outputs": [
        {
          "output_type": "stream",
          "name": "stdout",
          "text": [
            "<class 'pandas.core.frame.DataFrame'>\n",
            "RangeIndex: 10841 entries, 0 to 10840\n",
            "Data columns (total 13 columns):\n",
            " #   Column          Non-Null Count  Dtype  \n",
            "---  ------          --------------  -----  \n",
            " 0   App             10841 non-null  object \n",
            " 1   Category        10841 non-null  object \n",
            " 2   Rating          9367 non-null   float64\n",
            " 3   Reviews         10841 non-null  object \n",
            " 4   Size            10841 non-null  object \n",
            " 5   Installs        10841 non-null  object \n",
            " 6   Type            10840 non-null  object \n",
            " 7   Price           10841 non-null  object \n",
            " 8   Content Rating  10840 non-null  object \n",
            " 9   Genres          10841 non-null  object \n",
            " 10  Last Updated    10841 non-null  object \n",
            " 11  Current Ver     10833 non-null  object \n",
            " 12  Android Ver     10838 non-null  object \n",
            "dtypes: float64(1), object(12)\n",
            "memory usage: 1.1+ MB\n"
          ]
        }
      ]
    },
    {
      "cell_type": "code",
      "metadata": {
        "id": "CrIUI1UbBaR7",
        "colab": {
          "base_uri": "https://localhost:8080/"
        },
        "outputId": "f0eba7de-bc91-46cb-9bb3-4bf7a46f8c45"
      },
      "source": [
        "df_copy.isnull().sum()"
      ],
      "execution_count": null,
      "outputs": [
        {
          "output_type": "execute_result",
          "data": {
            "text/plain": [
              "App                  0\n",
              "Category             0\n",
              "Rating            1474\n",
              "Reviews              0\n",
              "Size                 0\n",
              "Installs             0\n",
              "Type                 1\n",
              "Price                0\n",
              "Content Rating       1\n",
              "Genres               0\n",
              "Last Updated         0\n",
              "Current Ver          8\n",
              "Android Ver          3\n",
              "dtype: int64"
            ]
          },
          "metadata": {},
          "execution_count": 12
        }
      ]
    },
    {
      "cell_type": "markdown",
      "metadata": {
        "id": "9-f8ApEZkvCv"
      },
      "source": [
        "#Cleaning DATA/ DATA Wrangling"
      ]
    },
    {
      "cell_type": "markdown",
      "metadata": {
        "id": "gNRIqLkEBGLh"
      },
      "source": [
        "## Dealing with Outliers\n",
        "#### in the above code block we found Rating column has more number of missing values to be handle "
      ]
    },
    {
      "cell_type": "code",
      "metadata": {
        "id": "_W1YpRN6QEK1",
        "colab": {
          "base_uri": "https://localhost:8080/",
          "height": 282
        },
        "outputId": "bef5f334-768f-4c5d-9edf-a56722d726c4"
      },
      "source": [
        "df_copy.boxplot() #to see whether are there any outlier"
      ],
      "execution_count": null,
      "outputs": [
        {
          "output_type": "execute_result",
          "data": {
            "text/plain": [
              "<matplotlib.axes._subplots.AxesSubplot at 0x7f50aab1cbd0>"
            ]
          },
          "metadata": {},
          "execution_count": 13
        },
        {
          "output_type": "display_data",
          "data": {
            "image/png": "[encoded data removed]",
            "text/plain": [
              "<Figure size 432x288 with 1 Axes>"
            ]
          },
          "metadata": {
            "needs_background": "light"
          }
        }
      ]
    },
    {
      "cell_type": "code",
      "metadata": {
        "id": "M00VhsxzQJYP",
        "colab": {
          "base_uri": "https://localhost:8080/",
          "height": 114
        },
        "outputId": "d3eb4af9-2cac-4d54-a49f-94d3270ea4b0"
      },
      "source": [
        "df_copy[df_copy['Rating'] > 5]"
      ],
      "execution_count": null,
      "outputs": [
        {
          "output_type": "execute_result",
          "data": {
            "text/html": [
              "<div>\n",
              "<style scoped>\n",
              "    .dataframe tbody tr th:only-of-type {\n",
              "        vertical-align: middle;\n",
              "    }\n",
              "\n",
              "    .dataframe tbody tr th {\n",
              "        vertical-align: top;\n",
              "    }\n",
              "\n",
              "    .dataframe thead th {\n",
              "        text-align: right;\n",
              "    }\n",
              "</style>\n",
              "<table border=\"1\" class=\"dataframe\">\n",
              "  <thead>\n",
              "    <tr style=\"text-align: right;\">\n",
              "      <th></th>\n",
              "      <th>App</th>\n",
              "      <th>Category</th>\n",
              "      <th>Rating</th>\n",
              "      <th>Reviews</th>\n",
              "      <th>Size</th>\n",
              "      <th>Installs</th>\n",
              "      <th>Type</th>\n",
              "      <th>Price</th>\n",
              "      <th>Content Rating</th>\n",
              "      <th>Genres</th>\n",
              "      <th>Last Updated</th>\n",
              "      <th>Current Ver</th>\n",
              "      <th>Android Ver</th>\n",
              "    </tr>\n",
              "  </thead>\n",
              "  <tbody>\n",
              "    <tr>\n",
              "      <th>10472</th>\n",
              "      <td>Life Made WI-Fi Touchscreen Photo Frame</td>\n",
              "      <td>1.9</td>\n",
              "      <td>19.0</td>\n",
              "      <td>3.0M</td>\n",
              "      <td>1,000+</td>\n",
              "      <td>Free</td>\n",
              "      <td>0</td>\n",
              "      <td>Everyone</td>\n",
              "      <td>NaN</td>\n",
              "      <td>February 11, 2018</td>\n",
              "      <td>1.0.19</td>\n",
              "      <td>4.0 and up</td>\n",
              "      <td>NaN</td>\n",
              "    </tr>\n",
              "  </tbody>\n",
              "</table>\n",
              "</div>"
            ],
            "text/plain": [
              "                                           App Category  ...  Current Ver Android Ver\n",
              "10472  Life Made WI-Fi Touchscreen Photo Frame      1.9  ...   4.0 and up         NaN\n",
              "\n",
              "[1 rows x 13 columns]"
            ]
          },
          "metadata": {},
          "execution_count": 14
        }
      ]
    },
    {
      "cell_type": "code",
      "metadata": {
        "id": "6CHofQBfnwCq",
        "colab": {
          "base_uri": "https://localhost:8080/"
        },
        "outputId": "8f3f2380-b1ad-42f7-e1fd-c0dd2cfe46ff"
      },
      "source": [
        "#to know the length of App of index 10472\n",
        "len(df['App'][10472])"
      ],
      "execution_count": null,
      "outputs": [
        {
          "output_type": "execute_result",
          "data": {
            "text/plain": [
              "39"
            ]
          },
          "metadata": {},
          "execution_count": 15
        }
      ]
    },
    {
      "cell_type": "code",
      "metadata": {
        "id": "4mJ7ed9JQSYA",
        "colab": {
          "base_uri": "https://localhost:8080/",
          "height": 97
        },
        "outputId": "3ae40b11-c2ab-49f7-9a41-984ad1bc2fa6"
      },
      "source": [
        "# I found in record 10472 all the field values are shifted towards left\n",
        "# so i made a try to set them and if i am unsuccessful will drop the record\n",
        "\n",
        "\n",
        "col = list(df.columns)\n",
        "print(col)\n",
        "\n",
        "idx = df_copy.index[df['Rating'] > 5].tolist()[0]\n",
        "df_copy.loc[idx,'Rating'] = float(df.loc[idx, col[1]])\n",
        "df_copy.loc[idx, col[0]] = df.loc[idx, col[0]][0:16]\n",
        "df_copy.loc[idx, col[1]] = df.loc[idx, col[0]][16:40]\n",
        "\n",
        "for j in range(2,len(col)-1):\n",
        "  df_copy.loc[idx, col[j+1]] = df.loc[idx, col[j]]\n",
        "  \n",
        "df_copy[idx:idx+1]\n",
        "\n",
        "# df_copy[col[0]][df_copy.index[df_copy['Rating'] > 5].tolist()[0]][0:16]\n",
        "# the above code in statement,\n",
        "# I had took concept help from google to get the index of particular record\n"
      ],
      "execution_count": null,
      "outputs": [
        {
          "output_type": "stream",
          "name": "stdout",
          "text": [
            "['App', 'Category', 'Rating', 'Reviews', 'Size', 'Installs', 'Type', 'Price', 'Content Rating', 'Genres', 'Last Updated', 'Current Ver', 'Android Ver']\n"
          ]
        },
        {
          "output_type": "execute_result",
          "data": {
            "text/html": [
              "<div>\n",
              "<style scoped>\n",
              "    .dataframe tbody tr th:only-of-type {\n",
              "        vertical-align: middle;\n",
              "    }\n",
              "\n",
              "    .dataframe tbody tr th {\n",
              "        vertical-align: top;\n",
              "    }\n",
              "\n",
              "    .dataframe thead th {\n",
              "        text-align: right;\n",
              "    }\n",
              "</style>\n",
              "<table border=\"1\" class=\"dataframe\">\n",
              "  <thead>\n",
              "    <tr style=\"text-align: right;\">\n",
              "      <th></th>\n",
              "      <th>App</th>\n",
              "      <th>Category</th>\n",
              "      <th>Rating</th>\n",
              "      <th>Reviews</th>\n",
              "      <th>Size</th>\n",
              "      <th>Installs</th>\n",
              "      <th>Type</th>\n",
              "      <th>Price</th>\n",
              "      <th>Content Rating</th>\n",
              "      <th>Genres</th>\n",
              "      <th>Last Updated</th>\n",
              "      <th>Current Ver</th>\n",
              "      <th>Android Ver</th>\n",
              "    </tr>\n",
              "  </thead>\n",
              "  <tbody>\n",
              "    <tr>\n",
              "      <th>10472</th>\n",
              "      <td>Life Made WI-Fi</td>\n",
              "      <td>Touchscreen Photo Frame</td>\n",
              "      <td>1.9</td>\n",
              "      <td>19</td>\n",
              "      <td>3.0M</td>\n",
              "      <td>1,000+</td>\n",
              "      <td>Free</td>\n",
              "      <td>0</td>\n",
              "      <td>Everyone</td>\n",
              "      <td>NaN</td>\n",
              "      <td>February 11, 2018</td>\n",
              "      <td>1.0.19</td>\n",
              "      <td>4.0 and up</td>\n",
              "    </tr>\n",
              "  </tbody>\n",
              "</table>\n",
              "</div>"
            ],
            "text/plain": [
              "                    App                 Category  ...  Current Ver Android Ver\n",
              "10472  Life Made WI-Fi   Touchscreen Photo Frame  ...       1.0.19  4.0 and up\n",
              "\n",
              "[1 rows x 13 columns]"
            ]
          },
          "metadata": {},
          "execution_count": 16
        }
      ]
    },
    {
      "cell_type": "code",
      "metadata": {
        "id": "kt0ai1qdJZdv",
        "colab": {
          "base_uri": "https://localhost:8080/",
          "height": 282
        },
        "outputId": "21f89e96-cbff-4a23-9740-914b890c6735"
      },
      "source": [
        "# let's again check whether are there any outliers\n",
        "\n",
        "df_copy.boxplot()"
      ],
      "execution_count": null,
      "outputs": [
        {
          "output_type": "execute_result",
          "data": {
            "text/plain": [
              "<matplotlib.axes._subplots.AxesSubplot at 0x7f50aa5e8350>"
            ]
          },
          "metadata": {},
          "execution_count": 17
        },
        {
          "output_type": "display_data",
          "data": {
            "image/png": "[encoded data removed]",
            "text/plain": [
              "<Figure size 432x288 with 1 Axes>"
            ]
          },
          "metadata": {
            "needs_background": "light"
          }
        }
      ]
    },
    {
      "cell_type": "code",
      "metadata": {
        "id": "6r0SpSA8N0UF",
        "colab": {
          "base_uri": "https://localhost:8080/",
          "height": 315
        },
        "outputId": "d54cda2d-7e56-4451-a7e0-edc4861f3328"
      },
      "source": [
        "df_copy.hist() # its seems to be like skewed right side"
      ],
      "execution_count": null,
      "outputs": [
        {
          "output_type": "execute_result",
          "data": {
            "text/plain": [
              "array([[<matplotlib.axes._subplots.AxesSubplot object at 0x7f50aa2ac5d0>]],\n",
              "      dtype=object)"
            ]
          },
          "metadata": {},
          "execution_count": 18
        },
        {
          "output_type": "display_data",
          "data": {
            "image/png": "[encoded data removed]",
            "text/plain": [
              "<Figure size 432x288 with 1 Axes>"
            ]
          },
          "metadata": {
            "needs_background": "light"
          }
        }
      ]
    },
    {
      "cell_type": "markdown",
      "metadata": {
        "id": "dWkooagYzA3i"
      },
      "source": [
        "## Filling/ Imputating of missing data\n",
        "#### now it looks ratings columns has no null values \n",
        "####lets work on type, Genres , current ver and Andriod Ver field"
      ]
    },
    {
      "cell_type": "code",
      "metadata": {
        "id": "-xByQw-NOYjv",
        "colab": {
          "base_uri": "https://localhost:8080/"
        },
        "outputId": "3d2d991e-d5fd-414d-bcae-6ca29fadbf2e"
      },
      "source": [
        "df_copy.isnull().sum()"
      ],
      "execution_count": null,
      "outputs": [
        {
          "output_type": "execute_result",
          "data": {
            "text/plain": [
              "App                  0\n",
              "Category             0\n",
              "Rating            1474\n",
              "Reviews              0\n",
              "Size                 0\n",
              "Installs             0\n",
              "Type                 1\n",
              "Price                0\n",
              "Content Rating       0\n",
              "Genres               1\n",
              "Last Updated         0\n",
              "Current Ver          8\n",
              "Android Ver          2\n",
              "dtype: int64"
            ]
          },
          "metadata": {},
          "execution_count": 19
        }
      ]
    },
    {
      "cell_type": "code",
      "metadata": {
        "id": "8fjQhsgvPr5p"
      },
      "source": [
        "# creating function to update series of rating\n",
        "def imputate_rating(ser):\n",
        "  return ser.fillna(ser.median())"
      ],
      "execution_count": null,
      "outputs": []
    },
    {
      "cell_type": "code",
      "metadata": {
        "id": "6qcdkHXTyCHL"
      },
      "source": [
        "# updating series rating which are null values\n",
        "df_copy['Rating'] = df_copy['Rating'].transform(imputate_rating)"
      ],
      "execution_count": null,
      "outputs": []
    },
    {
      "cell_type": "code",
      "metadata": {
        "id": "uQKR4leeyp3z",
        "colab": {
          "base_uri": "https://localhost:8080/"
        },
        "outputId": "6821356d-3d09-4bc6-fa62-63469547058b"
      },
      "source": [
        "df_copy.isnull().sum()"
      ],
      "execution_count": null,
      "outputs": [
        {
          "output_type": "execute_result",
          "data": {
            "text/plain": [
              "App               0\n",
              "Category          0\n",
              "Rating            0\n",
              "Reviews           0\n",
              "Size              0\n",
              "Installs          0\n",
              "Type              1\n",
              "Price             0\n",
              "Content Rating    0\n",
              "Genres            1\n",
              "Last Updated      0\n",
              "Current Ver       8\n",
              "Android Ver       2\n",
              "dtype: int64"
            ]
          },
          "metadata": {},
          "execution_count": 22
        }
      ]
    },
    {
      "cell_type": "code",
      "metadata": {
        "id": "F9FKh2mrzZRk",
        "colab": {
          "base_uri": "https://localhost:8080/"
        },
        "outputId": "e2d414ca-222d-46d5-c2ae-3ac6e9651310"
      },
      "source": [
        "## observing data we feel that Category value is same as Genres so, as there is \n",
        "## only record is to be updated we are filling it with category data\n",
        "df_copy['Genres'].fillna(df_copy.loc[idx,'Category'],inplace= True)\n",
        "df_copy.isnull().sum()"
      ],
      "execution_count": null,
      "outputs": [
        {
          "output_type": "execute_result",
          "data": {
            "text/plain": [
              "App               0\n",
              "Category          0\n",
              "Rating            0\n",
              "Reviews           0\n",
              "Size              0\n",
              "Installs          0\n",
              "Type              1\n",
              "Price             0\n",
              "Content Rating    0\n",
              "Genres            0\n",
              "Last Updated      0\n",
              "Current Ver       8\n",
              "Android Ver       2\n",
              "dtype: int64"
            ]
          },
          "metadata": {},
          "execution_count": 23
        }
      ]
    },
    {
      "cell_type": "code",
      "metadata": {
        "id": "39Jv79h13Tyq",
        "colab": {
          "base_uri": "https://localhost:8080/"
        },
        "outputId": "ec0d7ae2-e0d6-4fea-8fc7-c9b6167b1e4b"
      },
      "source": [
        "## As all the above missing values are Qualitative data , we have decided to \n",
        "## fill them will most repitative value in that series nothing but mode of \n",
        "##that series\n",
        "df_copy['Type'].fillna(df_copy['Type'].mode().values[0], inplace = True)\n",
        "df_copy['Current Ver'].fillna(df_copy['Current Ver'].mode().values[0], inplace = True)\n",
        "df_copy['Android Ver'].fillna(df_copy['Android Ver'].mode().values[0], inplace = True)\n",
        "\n",
        "df_copy.isnull().sum()"
      ],
      "execution_count": null,
      "outputs": [
        {
          "output_type": "execute_result",
          "data": {
            "text/plain": [
              "App               0\n",
              "Category          0\n",
              "Rating            0\n",
              "Reviews           0\n",
              "Size              0\n",
              "Installs          0\n",
              "Type              0\n",
              "Price             0\n",
              "Content Rating    0\n",
              "Genres            0\n",
              "Last Updated      0\n",
              "Current Ver       0\n",
              "Android Ver       0\n",
              "dtype: int64"
            ]
          },
          "metadata": {},
          "execution_count": 24
        }
      ]
    },
    {
      "cell_type": "markdown",
      "metadata": {
        "id": "aL1xhDJM5a2_"
      },
      "source": [
        "##DATA formatting\n",
        "#### Now till here we have handled the dataset with missing values\n",
        "#### However now we need to look at the format of the data like for installs, price and review field should be in numerics"
      ]
    },
    {
      "cell_type": "code",
      "metadata": {
        "id": "4VxMYhOv521H",
        "colab": {
          "base_uri": "https://localhost:8080/"
        },
        "outputId": "d4ead4b5-2749-4dbd-d0fb-e6a9e73feea0"
      },
      "source": [
        "df_copy['Price'] = df_copy['Price'].apply(lambda x : float(str(x).replace('$','')) if '$' in str(x) else float(str(x)))\n",
        "df_copy['Installs'] = df_copy['Installs'].apply(lambda x : str(x).replace('+','') if '+' in str(x) else str(x))\n",
        "df_copy['Installs'] = df_copy['Installs'].apply(lambda x : float(str(x).replace(',','')) if ',' in str(x) else float(str(x)))\n",
        "df_copy['Reviews'] = df_copy['Reviews'].astype(float)\n",
        "df_copy['Reviews']\n",
        "\n",
        "## Here we have updated the format of required fields"
      ],
      "execution_count": null,
      "outputs": [
        {
          "output_type": "execute_result",
          "data": {
            "text/plain": [
              "0           159.0\n",
              "1           967.0\n",
              "2         87510.0\n",
              "3        215644.0\n",
              "4           967.0\n",
              "           ...   \n",
              "10836        38.0\n",
              "10837         4.0\n",
              "10838         3.0\n",
              "10839       114.0\n",
              "10840    398307.0\n",
              "Name: Reviews, Length: 10841, dtype: float64"
            ]
          },
          "metadata": {},
          "execution_count": 25
        }
      ]
    },
    {
      "cell_type": "markdown",
      "metadata": {
        "id": "ZTuCnpFnl4b7"
      },
      "source": [
        "#Hypothesis"
      ]
    },
    {
      "cell_type": "markdown",
      "metadata": {
        "id": "J77UXib5mNDZ"
      },
      "source": [
        "#### 1. Categories group vs Rating"
      ]
    },
    {
      "cell_type": "code",
      "metadata": {
        "id": "UnY_BdL1aRt0"
      },
      "source": [
        "df_1 = df_copy.groupby('Category',as_index=False)['Rating'].mean()"
      ],
      "execution_count": null,
      "outputs": []
    },
    {
      "cell_type": "code",
      "metadata": {
        "id": "qsQFZu6pMbkK",
        "colab": {
          "base_uri": "https://localhost:8080/",
          "height": 413
        },
        "outputId": "fe539eb1-8806-4e43-d1bd-41a0d62310f3"
      },
      "source": [
        "colors = ['lightgreen' if x > 4.3 else 'orange' for x in df_1.Rating]\n",
        "\n",
        "plt.bar(df_1.Category,df_1.Rating,width=0.8,color=colors)\n",
        "\n",
        "plt.xlabel('Category')\n",
        "plt.ylabel('Ratings')\n",
        "plt.title('Average Ratings of each Category of APP')\n",
        "\n",
        "plt.xticks(rotation=90)\n",
        "plt.show()"
      ],
      "execution_count": null,
      "outputs": [
        {
          "output_type": "display_data",
          "data": {
            "image/png": "[encoded data removed]",
            "text/plain": [
              "<Figure size 432x288 with 1 Axes>"
            ]
          },
          "metadata": {
            "needs_background": "light"
          }
        }
      ]
    },
    {
      "cell_type": "code",
      "metadata": {
        "id": "jclmW6yphtlb",
        "colab": {
          "base_uri": "https://localhost:8080/",
          "height": 529
        },
        "outputId": "d88a6b58-7838-44c2-fb43-2b41fe0f2a3d"
      },
      "source": [
        "df_1['Category'].max()\n",
        "df_2 = df_copy[df_copy['Category'] == df_1['Category'].max()]\n",
        "df_3 = df_2.sort_values(['Rating'],ascending =False).head(10)\n",
        "df_3\n",
        "# df_11 = df_3.sort_values(['Rating'],ascending =False).head(10)"
      ],
      "execution_count": null,
      "outputs": [
        {
          "output_type": "execute_result",
          "data": {
            "text/html": [
              "<div>\n",
              "<style scoped>\n",
              "    .dataframe tbody tr th:only-of-type {\n",
              "        vertical-align: middle;\n",
              "    }\n",
              "\n",
              "    .dataframe tbody tr th {\n",
              "        vertical-align: top;\n",
              "    }\n",
              "\n",
              "    .dataframe thead th {\n",
              "        text-align: right;\n",
              "    }\n",
              "</style>\n",
              "<table border=\"1\" class=\"dataframe\">\n",
              "  <thead>\n",
              "    <tr style=\"text-align: right;\">\n",
              "      <th></th>\n",
              "      <th>App</th>\n",
              "      <th>Category</th>\n",
              "      <th>Rating</th>\n",
              "      <th>Reviews</th>\n",
              "      <th>Size</th>\n",
              "      <th>Installs</th>\n",
              "      <th>Type</th>\n",
              "      <th>Price</th>\n",
              "      <th>Content Rating</th>\n",
              "      <th>Genres</th>\n",
              "      <th>Last Updated</th>\n",
              "      <th>Current Ver</th>\n",
              "      <th>Android Ver</th>\n",
              "    </tr>\n",
              "  </thead>\n",
              "  <tbody>\n",
              "    <tr>\n",
              "      <th>3627</th>\n",
              "      <td>Weather forecast</td>\n",
              "      <td>WEATHER</td>\n",
              "      <td>4.8</td>\n",
              "      <td>159455.0</td>\n",
              "      <td>10M</td>\n",
              "      <td>1000000.0</td>\n",
              "      <td>Free</td>\n",
              "      <td>0.00</td>\n",
              "      <td>Everyone</td>\n",
              "      <td>Weather</td>\n",
              "      <td>May 8, 2018</td>\n",
              "      <td>1.11.93</td>\n",
              "      <td>4.4 and up</td>\n",
              "    </tr>\n",
              "    <tr>\n",
              "      <th>3629</th>\n",
              "      <td>Live Weather Pro</td>\n",
              "      <td>WEATHER</td>\n",
              "      <td>4.8</td>\n",
              "      <td>892.0</td>\n",
              "      <td>17M</td>\n",
              "      <td>10000.0</td>\n",
              "      <td>Free</td>\n",
              "      <td>0.00</td>\n",
              "      <td>Everyone</td>\n",
              "      <td>Weather</td>\n",
              "      <td>July 17, 2018</td>\n",
              "      <td>1.1</td>\n",
              "      <td>4.4 and up</td>\n",
              "    </tr>\n",
              "    <tr>\n",
              "      <th>3658</th>\n",
              "      <td>Weather Live Pro</td>\n",
              "      <td>WEATHER</td>\n",
              "      <td>4.8</td>\n",
              "      <td>17493.0</td>\n",
              "      <td>11M</td>\n",
              "      <td>100000.0</td>\n",
              "      <td>Paid</td>\n",
              "      <td>4.49</td>\n",
              "      <td>Everyone</td>\n",
              "      <td>Weather</td>\n",
              "      <td>April 20, 2018</td>\n",
              "      <td>1.3</td>\n",
              "      <td>4.4 and up</td>\n",
              "    </tr>\n",
              "    <tr>\n",
              "      <th>3631</th>\n",
              "      <td>weather - weather forecast</td>\n",
              "      <td>WEATHER</td>\n",
              "      <td>4.7</td>\n",
              "      <td>11118.0</td>\n",
              "      <td>9.7M</td>\n",
              "      <td>1000000.0</td>\n",
              "      <td>Free</td>\n",
              "      <td>0.00</td>\n",
              "      <td>Everyone</td>\n",
              "      <td>Weather</td>\n",
              "      <td>April 26, 2018</td>\n",
              "      <td>30</td>\n",
              "      <td>4.0 and up</td>\n",
              "    </tr>\n",
              "    <tr>\n",
              "      <th>8912</th>\n",
              "      <td>Weather Forecast Pro</td>\n",
              "      <td>WEATHER</td>\n",
              "      <td>4.7</td>\n",
              "      <td>14051.0</td>\n",
              "      <td>8.7M</td>\n",
              "      <td>100000.0</td>\n",
              "      <td>Paid</td>\n",
              "      <td>3.99</td>\n",
              "      <td>Everyone</td>\n",
              "      <td>Weather</td>\n",
              "      <td>August 4, 2018</td>\n",
              "      <td>8.5</td>\n",
              "      <td>4.0 and up</td>\n",
              "    </tr>\n",
              "    <tr>\n",
              "      <th>7491</th>\n",
              "      <td>Fu*** Weather (Funny Weather)</td>\n",
              "      <td>WEATHER</td>\n",
              "      <td>4.7</td>\n",
              "      <td>20001.0</td>\n",
              "      <td>Varies with device</td>\n",
              "      <td>1000000.0</td>\n",
              "      <td>Free</td>\n",
              "      <td>0.00</td>\n",
              "      <td>Mature 17+</td>\n",
              "      <td>Weather</td>\n",
              "      <td>July 26, 2018</td>\n",
              "      <td>Varies with device</td>\n",
              "      <td>Varies with device</td>\n",
              "    </tr>\n",
              "    <tr>\n",
              "      <th>8153</th>\n",
              "      <td>WebCams</td>\n",
              "      <td>WEATHER</td>\n",
              "      <td>4.6</td>\n",
              "      <td>3963.0</td>\n",
              "      <td>23M</td>\n",
              "      <td>100000.0</td>\n",
              "      <td>Free</td>\n",
              "      <td>0.00</td>\n",
              "      <td>Everyone</td>\n",
              "      <td>Weather</td>\n",
              "      <td>July 17, 2018</td>\n",
              "      <td>5.2.11</td>\n",
              "      <td>4.2 and up</td>\n",
              "    </tr>\n",
              "    <tr>\n",
              "      <th>3638</th>\n",
              "      <td>Klara weather</td>\n",
              "      <td>WEATHER</td>\n",
              "      <td>4.6</td>\n",
              "      <td>36900.0</td>\n",
              "      <td>4.8M</td>\n",
              "      <td>500000.0</td>\n",
              "      <td>Free</td>\n",
              "      <td>0.00</td>\n",
              "      <td>Everyone</td>\n",
              "      <td>Weather</td>\n",
              "      <td>July 28, 2018</td>\n",
              "      <td>1.3.6</td>\n",
              "      <td>4.0 and up</td>\n",
              "    </tr>\n",
              "    <tr>\n",
              "      <th>3653</th>\n",
              "      <td>Storm Radar: Tornado Tracker &amp; Hurricane Alerts</td>\n",
              "      <td>WEATHER</td>\n",
              "      <td>4.6</td>\n",
              "      <td>89868.0</td>\n",
              "      <td>Varies with device</td>\n",
              "      <td>1000000.0</td>\n",
              "      <td>Free</td>\n",
              "      <td>0.00</td>\n",
              "      <td>Everyone</td>\n",
              "      <td>Weather</td>\n",
              "      <td>June 12, 2018</td>\n",
              "      <td>Varies with device</td>\n",
              "      <td>Varies with device</td>\n",
              "    </tr>\n",
              "    <tr>\n",
              "      <th>3643</th>\n",
              "      <td>Live Weather &amp; Daily Local Weather Forecast</td>\n",
              "      <td>WEATHER</td>\n",
              "      <td>4.5</td>\n",
              "      <td>13426.0</td>\n",
              "      <td>19M</td>\n",
              "      <td>1000000.0</td>\n",
              "      <td>Free</td>\n",
              "      <td>0.00</td>\n",
              "      <td>Everyone</td>\n",
              "      <td>Weather</td>\n",
              "      <td>July 17, 2018</td>\n",
              "      <td>9.9.1.1910</td>\n",
              "      <td>4.1 and up</td>\n",
              "    </tr>\n",
              "  </tbody>\n",
              "</table>\n",
              "</div>"
            ],
            "text/plain": [
              "                                                  App  ...         Android Ver\n",
              "3627                                 Weather forecast  ...          4.4 and up\n",
              "3629                                 Live Weather Pro  ...          4.4 and up\n",
              "3658                                 Weather Live Pro  ...          4.4 and up\n",
              "3631                       weather - weather forecast  ...          4.0 and up\n",
              "8912                             Weather Forecast Pro  ...          4.0 and up\n",
              "7491                    Fu*** Weather (Funny Weather)  ...  Varies with device\n",
              "8153                                          WebCams  ...          4.2 and up\n",
              "3638                                    Klara weather  ...          4.0 and up\n",
              "3653  Storm Radar: Tornado Tracker & Hurricane Alerts  ...  Varies with device\n",
              "3643      Live Weather & Daily Local Weather Forecast  ...          4.1 and up\n",
              "\n",
              "[10 rows x 13 columns]"
            ]
          },
          "metadata": {},
          "execution_count": 28
        }
      ]
    },
    {
      "cell_type": "markdown",
      "metadata": {
        "id": "qMMpfLaTQb3d"
      },
      "source": [
        "####2.Categoeries group vs Install"
      ]
    },
    {
      "cell_type": "code",
      "metadata": {
        "id": "fzO4SSZhQYQ4",
        "colab": {
          "base_uri": "https://localhost:8080/",
          "height": 1000
        },
        "outputId": "f237a3ae-49ff-4825-9ebc-407b23057300"
      },
      "source": [
        "df_4 = df_copy.groupby('Category',as_index=False)['Installs'].median()\n",
        "df_4"
      ],
      "execution_count": null,
      "outputs": [
        {
          "output_type": "execute_result",
          "data": {
            "text/html": [
              "<div>\n",
              "<style scoped>\n",
              "    .dataframe tbody tr th:only-of-type {\n",
              "        vertical-align: middle;\n",
              "    }\n",
              "\n",
              "    .dataframe tbody tr th {\n",
              "        vertical-align: top;\n",
              "    }\n",
              "\n",
              "    .dataframe thead th {\n",
              "        text-align: right;\n",
              "    }\n",
              "</style>\n",
              "<table border=\"1\" class=\"dataframe\">\n",
              "  <thead>\n",
              "    <tr style=\"text-align: right;\">\n",
              "      <th></th>\n",
              "      <th>Category</th>\n",
              "      <th>Installs</th>\n",
              "    </tr>\n",
              "  </thead>\n",
              "  <tbody>\n",
              "    <tr>\n",
              "      <th>0</th>\n",
              "      <td>ART_AND_DESIGN</td>\n",
              "      <td>100000.0</td>\n",
              "    </tr>\n",
              "    <tr>\n",
              "      <th>1</th>\n",
              "      <td>AUTO_AND_VEHICLES</td>\n",
              "      <td>100000.0</td>\n",
              "    </tr>\n",
              "    <tr>\n",
              "      <th>2</th>\n",
              "      <td>BEAUTY</td>\n",
              "      <td>50000.0</td>\n",
              "    </tr>\n",
              "    <tr>\n",
              "      <th>3</th>\n",
              "      <td>BOOKS_AND_REFERENCE</td>\n",
              "      <td>10000.0</td>\n",
              "    </tr>\n",
              "    <tr>\n",
              "      <th>4</th>\n",
              "      <td>BUSINESS</td>\n",
              "      <td>1000.0</td>\n",
              "    </tr>\n",
              "    <tr>\n",
              "      <th>5</th>\n",
              "      <td>COMICS</td>\n",
              "      <td>100000.0</td>\n",
              "    </tr>\n",
              "    <tr>\n",
              "      <th>6</th>\n",
              "      <td>COMMUNICATION</td>\n",
              "      <td>1000000.0</td>\n",
              "    </tr>\n",
              "    <tr>\n",
              "      <th>7</th>\n",
              "      <td>DATING</td>\n",
              "      <td>100000.0</td>\n",
              "    </tr>\n",
              "    <tr>\n",
              "      <th>8</th>\n",
              "      <td>EDUCATION</td>\n",
              "      <td>1000000.0</td>\n",
              "    </tr>\n",
              "    <tr>\n",
              "      <th>9</th>\n",
              "      <td>ENTERTAINMENT</td>\n",
              "      <td>5000000.0</td>\n",
              "    </tr>\n",
              "    <tr>\n",
              "      <th>10</th>\n",
              "      <td>EVENTS</td>\n",
              "      <td>1000.0</td>\n",
              "    </tr>\n",
              "    <tr>\n",
              "      <th>11</th>\n",
              "      <td>FAMILY</td>\n",
              "      <td>100000.0</td>\n",
              "    </tr>\n",
              "    <tr>\n",
              "      <th>12</th>\n",
              "      <td>FINANCE</td>\n",
              "      <td>50000.0</td>\n",
              "    </tr>\n",
              "    <tr>\n",
              "      <th>13</th>\n",
              "      <td>FOOD_AND_DRINK</td>\n",
              "      <td>500000.0</td>\n",
              "    </tr>\n",
              "    <tr>\n",
              "      <th>14</th>\n",
              "      <td>GAME</td>\n",
              "      <td>1000000.0</td>\n",
              "    </tr>\n",
              "    <tr>\n",
              "      <th>15</th>\n",
              "      <td>HEALTH_AND_FITNESS</td>\n",
              "      <td>500000.0</td>\n",
              "    </tr>\n",
              "    <tr>\n",
              "      <th>16</th>\n",
              "      <td>HOUSE_AND_HOME</td>\n",
              "      <td>500000.0</td>\n",
              "    </tr>\n",
              "    <tr>\n",
              "      <th>17</th>\n",
              "      <td>LIBRARIES_AND_DEMO</td>\n",
              "      <td>10000.0</td>\n",
              "    </tr>\n",
              "    <tr>\n",
              "      <th>18</th>\n",
              "      <td>LIFESTYLE</td>\n",
              "      <td>10000.0</td>\n",
              "    </tr>\n",
              "    <tr>\n",
              "      <th>19</th>\n",
              "      <td>MAPS_AND_NAVIGATION</td>\n",
              "      <td>100000.0</td>\n",
              "    </tr>\n",
              "    <tr>\n",
              "      <th>20</th>\n",
              "      <td>MEDICAL</td>\n",
              "      <td>1000.0</td>\n",
              "    </tr>\n",
              "    <tr>\n",
              "      <th>21</th>\n",
              "      <td>NEWS_AND_MAGAZINES</td>\n",
              "      <td>100000.0</td>\n",
              "    </tr>\n",
              "    <tr>\n",
              "      <th>22</th>\n",
              "      <td>PARENTING</td>\n",
              "      <td>100000.0</td>\n",
              "    </tr>\n",
              "    <tr>\n",
              "      <th>23</th>\n",
              "      <td>PERSONALIZATION</td>\n",
              "      <td>10000.0</td>\n",
              "    </tr>\n",
              "    <tr>\n",
              "      <th>24</th>\n",
              "      <td>PHOTOGRAPHY</td>\n",
              "      <td>5000000.0</td>\n",
              "    </tr>\n",
              "    <tr>\n",
              "      <th>25</th>\n",
              "      <td>PRODUCTIVITY</td>\n",
              "      <td>300000.0</td>\n",
              "    </tr>\n",
              "    <tr>\n",
              "      <th>26</th>\n",
              "      <td>SHOPPING</td>\n",
              "      <td>1000000.0</td>\n",
              "    </tr>\n",
              "    <tr>\n",
              "      <th>27</th>\n",
              "      <td>SOCIAL</td>\n",
              "      <td>1000000.0</td>\n",
              "    </tr>\n",
              "    <tr>\n",
              "      <th>28</th>\n",
              "      <td>SPORTS</td>\n",
              "      <td>100000.0</td>\n",
              "    </tr>\n",
              "    <tr>\n",
              "      <th>29</th>\n",
              "      <td>TOOLS</td>\n",
              "      <td>50000.0</td>\n",
              "    </tr>\n",
              "    <tr>\n",
              "      <th>30</th>\n",
              "      <td>TRAVEL_AND_LOCAL</td>\n",
              "      <td>1000000.0</td>\n",
              "    </tr>\n",
              "    <tr>\n",
              "      <th>31</th>\n",
              "      <td>Touchscreen Photo Frame</td>\n",
              "      <td>1000.0</td>\n",
              "    </tr>\n",
              "    <tr>\n",
              "      <th>32</th>\n",
              "      <td>VIDEO_PLAYERS</td>\n",
              "      <td>1000000.0</td>\n",
              "    </tr>\n",
              "    <tr>\n",
              "      <th>33</th>\n",
              "      <td>WEATHER</td>\n",
              "      <td>1000000.0</td>\n",
              "    </tr>\n",
              "  </tbody>\n",
              "</table>\n",
              "</div>"
            ],
            "text/plain": [
              "                   Category   Installs\n",
              "0            ART_AND_DESIGN   100000.0\n",
              "1         AUTO_AND_VEHICLES   100000.0\n",
              "2                    BEAUTY    50000.0\n",
              "3       BOOKS_AND_REFERENCE    10000.0\n",
              "4                  BUSINESS     1000.0\n",
              "5                    COMICS   100000.0\n",
              "6             COMMUNICATION  1000000.0\n",
              "7                    DATING   100000.0\n",
              "8                 EDUCATION  1000000.0\n",
              "9             ENTERTAINMENT  5000000.0\n",
              "10                   EVENTS     1000.0\n",
              "11                   FAMILY   100000.0\n",
              "12                  FINANCE    50000.0\n",
              "13           FOOD_AND_DRINK   500000.0\n",
              "14                     GAME  1000000.0\n",
              "15       HEALTH_AND_FITNESS   500000.0\n",
              "16           HOUSE_AND_HOME   500000.0\n",
              "17       LIBRARIES_AND_DEMO    10000.0\n",
              "18                LIFESTYLE    10000.0\n",
              "19      MAPS_AND_NAVIGATION   100000.0\n",
              "20                  MEDICAL     1000.0\n",
              "21       NEWS_AND_MAGAZINES   100000.0\n",
              "22                PARENTING   100000.0\n",
              "23          PERSONALIZATION    10000.0\n",
              "24              PHOTOGRAPHY  5000000.0\n",
              "25             PRODUCTIVITY   300000.0\n",
              "26                 SHOPPING  1000000.0\n",
              "27                   SOCIAL  1000000.0\n",
              "28                   SPORTS   100000.0\n",
              "29                    TOOLS    50000.0\n",
              "30         TRAVEL_AND_LOCAL  1000000.0\n",
              "31  Touchscreen Photo Frame     1000.0\n",
              "32            VIDEO_PLAYERS  1000000.0\n",
              "33                  WEATHER  1000000.0"
            ]
          },
          "metadata": {},
          "execution_count": 29
        }
      ]
    },
    {
      "cell_type": "code",
      "metadata": {
        "id": "UOg7wbmYQ7nV",
        "colab": {
          "base_uri": "https://localhost:8080/",
          "height": 413
        },
        "outputId": "eb62c565-38a6-4497-cdf3-ded71f869c4c"
      },
      "source": [
        "colors = ['red' if x > 1000000 else 'violet' for x in df_4.Installs]\n",
        "\n",
        "plt.bar(df_4.Category,df_4.Installs,width=0.6,color=colors)\n",
        "\n",
        "plt.xlabel('Category')\n",
        "plt.ylabel('Installs')\n",
        "plt.title('Average Installs of each Category of APP')\n",
        "\n",
        "plt.xticks(rotation=90)\n",
        "plt.show()\n"
      ],
      "execution_count": null,
      "outputs": [
        {
          "output_type": "display_data",
          "data": {
            "image/png": "[encoded data removed]",
            "text/plain": [
              "<Figure size 432x288 with 1 Axes>"
            ]
          },
          "metadata": {
            "needs_background": "light"
          }
        }
      ]
    },
    {
      "cell_type": "code",
      "metadata": {
        "id": "WWsf7OZ9R8G9"
      },
      "source": [
        "df_5 = df_copy[df_copy['Category'] == 'ENTERTAINMENT']\n",
        "df_6 = df_5.sort_values(['Rating'],ascending =False).head(20)"
      ],
      "execution_count": null,
      "outputs": []
    },
    {
      "cell_type": "code",
      "metadata": {
        "id": "lSiLgncidvTE",
        "colab": {
          "base_uri": "https://localhost:8080/",
          "height": 624
        },
        "outputId": "a7d6f325-0642-4d7a-c569-2d86fd585f32"
      },
      "source": [
        "# plt.bar(df_4['App'],df_4['Rating'])\n",
        "\n",
        "# plt.xlabel('App Name')\n",
        "# plt.ylabel('Rating')\n",
        "# plt.title('Top 10 Entertainment Apps based on Ratings')\n",
        "\n",
        "# plt.xticks(rotation=90)\n",
        "# plt.show()\n",
        "\n",
        "#sns.barplot(x=df_6['App'], y=df_6['Rating'])\n",
        "sns.scatterplot(x=df_6['App'], y=df_6['Rating'])\n",
        "\n",
        "plt.xticks(rotation=90)"
      ],
      "execution_count": null,
      "outputs": [
        {
          "output_type": "execute_result",
          "data": {
            "text/plain": [
              "([0, 1, 2, 3, 4, 5, 6, 7, 8, 9, 10, 11, 12, 13, 14, 15, 16, 17],\n",
              " <a list of 18 Text major ticklabel objects>)"
            ]
          },
          "metadata": {},
          "execution_count": 53
        },
        {
          "output_type": "stream",
          "name": "stderr",
          "text": [
            "/usr/local/lib/python3.7/dist-packages/matplotlib/backends/backend_agg.py:214: RuntimeWarning: Glyph 128293 missing from current font.\n",
            "  font.set_text(s, 0.0, flags=flags)\n",
            "/usr/local/lib/python3.7/dist-packages/matplotlib/backends/backend_agg.py:183: RuntimeWarning: Glyph 128293 missing from current font.\n",
            "  font.set_text(s, 0, flags=flags)\n"
          ]
        },
        {
          "output_type": "display_data",
          "data": {
            "image/png": "[encoded data removed]",
            "text/plain": [
              "<Figure size 432x288 with 1 Axes>"
            ]
          },
          "metadata": {
            "needs_background": "light"
          }
        }
      ]
    },
    {
      "cell_type": "markdown",
      "metadata": {
        "id": "wtZLGYm8ixoO"
      },
      "source": [
        "####4.Top rating APP in each Category"
      ]
    },
    {
      "cell_type": "code",
      "metadata": {
        "id": "yovBhWspi4_x",
        "colab": {
          "base_uri": "https://localhost:8080/",
          "height": 623
        },
        "outputId": "d4db15df-c9f5-4072-dc3a-060cb441e8ce"
      },
      "source": [
        "list_cate = [x for x in df_1['Category']]\n",
        "list_cate[0]\n",
        "\n",
        "print(len(list_cate))\n",
        "# top_rated_App = []\n",
        "\n",
        "# for i in list_cate:\n",
        "#   p = df_copy[df_copy['Category'] == df_copy[i]]\n",
        "#   ap = \n",
        "#   top_rated_App.append(ap)\n",
        "\n",
        "# # top_App_list = [df_copy[df_copy[x]]['App'] for x in list_cate]\n",
        "\n",
        "# print(top_App_list)\n",
        "\n",
        "p = df_copy[df_copy['Category']==list_cate[0]]\n",
        "p.sort_values(['Price'],ascending = False)\n",
        "\n",
        "\n",
        "# df_copy[df_copy['Rating']== p]"
      ],
      "execution_count": null,
      "outputs": [
        {
          "output_type": "stream",
          "name": "stdout",
          "text": [
            "34\n"
          ]
        },
        {
          "output_type": "execute_result",
          "data": {
            "text/html": [
              "<div>\n",
              "<style scoped>\n",
              "    .dataframe tbody tr th:only-of-type {\n",
              "        vertical-align: middle;\n",
              "    }\n",
              "\n",
              "    .dataframe tbody tr th {\n",
              "        vertical-align: top;\n",
              "    }\n",
              "\n",
              "    .dataframe thead th {\n",
              "        text-align: right;\n",
              "    }\n",
              "</style>\n",
              "<table border=\"1\" class=\"dataframe\">\n",
              "  <thead>\n",
              "    <tr style=\"text-align: right;\">\n",
              "      <th></th>\n",
              "      <th>App</th>\n",
              "      <th>Category</th>\n",
              "      <th>Rating</th>\n",
              "      <th>Reviews</th>\n",
              "      <th>Size</th>\n",
              "      <th>Installs</th>\n",
              "      <th>Type</th>\n",
              "      <th>Price</th>\n",
              "      <th>Content Rating</th>\n",
              "      <th>Genres</th>\n",
              "      <th>Last Updated</th>\n",
              "      <th>Current Ver</th>\n",
              "      <th>Android Ver</th>\n",
              "    </tr>\n",
              "  </thead>\n",
              "  <tbody>\n",
              "    <tr>\n",
              "      <th>4755</th>\n",
              "      <td>X Launcher Pro: PhoneX Theme, OS11 Control Center</td>\n",
              "      <td>ART_AND_DESIGN</td>\n",
              "      <td>4.7</td>\n",
              "      <td>801.0</td>\n",
              "      <td>3.5M</td>\n",
              "      <td>5000.0</td>\n",
              "      <td>Paid</td>\n",
              "      <td>1.99</td>\n",
              "      <td>Everyone</td>\n",
              "      <td>Art &amp; Design</td>\n",
              "      <td>July 30, 2018</td>\n",
              "      <td>2.1.2</td>\n",
              "      <td>4.1 and up</td>\n",
              "    </tr>\n",
              "    <tr>\n",
              "      <th>4759</th>\n",
              "      <td>X Launcher Pro - IOS Style Theme &amp; Control Center</td>\n",
              "      <td>ART_AND_DESIGN</td>\n",
              "      <td>4.8</td>\n",
              "      <td>1216.0</td>\n",
              "      <td>8.6M</td>\n",
              "      <td>10000.0</td>\n",
              "      <td>Paid</td>\n",
              "      <td>1.99</td>\n",
              "      <td>Everyone</td>\n",
              "      <td>Art &amp; Design</td>\n",
              "      <td>June 26, 2018</td>\n",
              "      <td>1.0.0</td>\n",
              "      <td>4.1 and up</td>\n",
              "    </tr>\n",
              "    <tr>\n",
              "      <th>4764</th>\n",
              "      <td>X Launcher Prime: With OS Style Theme &amp; No Ads</td>\n",
              "      <td>ART_AND_DESIGN</td>\n",
              "      <td>4.7</td>\n",
              "      <td>149.0</td>\n",
              "      <td>3.5M</td>\n",
              "      <td>1000.0</td>\n",
              "      <td>Paid</td>\n",
              "      <td>1.99</td>\n",
              "      <td>Everyone</td>\n",
              "      <td>Art &amp; Design</td>\n",
              "      <td>July 30, 2018</td>\n",
              "      <td>1.2.2</td>\n",
              "      <td>4.1 and up</td>\n",
              "    </tr>\n",
              "    <tr>\n",
              "      <th>0</th>\n",
              "      <td>Photo Editor &amp; Candy Camera &amp; Grid &amp; ScrapBook</td>\n",
              "      <td>ART_AND_DESIGN</td>\n",
              "      <td>4.1</td>\n",
              "      <td>159.0</td>\n",
              "      <td>19M</td>\n",
              "      <td>10000.0</td>\n",
              "      <td>Free</td>\n",
              "      <td>0.00</td>\n",
              "      <td>Everyone</td>\n",
              "      <td>Art &amp; Design</td>\n",
              "      <td>January 7, 2018</td>\n",
              "      <td>1.0.0</td>\n",
              "      <td>4.0.3 and up</td>\n",
              "    </tr>\n",
              "    <tr>\n",
              "      <th>42</th>\n",
              "      <td>Textgram - write on photos</td>\n",
              "      <td>ART_AND_DESIGN</td>\n",
              "      <td>4.4</td>\n",
              "      <td>295221.0</td>\n",
              "      <td>Varies with device</td>\n",
              "      <td>10000000.0</td>\n",
              "      <td>Free</td>\n",
              "      <td>0.00</td>\n",
              "      <td>Everyone</td>\n",
              "      <td>Art &amp; Design</td>\n",
              "      <td>July 30, 2018</td>\n",
              "      <td>Varies with device</td>\n",
              "      <td>Varies with device</td>\n",
              "    </tr>\n",
              "    <tr>\n",
              "      <th>...</th>\n",
              "      <td>...</td>\n",
              "      <td>...</td>\n",
              "      <td>...</td>\n",
              "      <td>...</td>\n",
              "      <td>...</td>\n",
              "      <td>...</td>\n",
              "      <td>...</td>\n",
              "      <td>...</td>\n",
              "      <td>...</td>\n",
              "      <td>...</td>\n",
              "      <td>...</td>\n",
              "      <td>...</td>\n",
              "      <td>...</td>\n",
              "    </tr>\n",
              "    <tr>\n",
              "      <th>27</th>\n",
              "      <td>Animated Photo Editor</td>\n",
              "      <td>ART_AND_DESIGN</td>\n",
              "      <td>4.1</td>\n",
              "      <td>203.0</td>\n",
              "      <td>6.1M</td>\n",
              "      <td>100000.0</td>\n",
              "      <td>Free</td>\n",
              "      <td>0.00</td>\n",
              "      <td>Everyone</td>\n",
              "      <td>Art &amp; Design</td>\n",
              "      <td>March 21, 2018</td>\n",
              "      <td>1.03</td>\n",
              "      <td>4.0.3 and up</td>\n",
              "    </tr>\n",
              "    <tr>\n",
              "      <th>28</th>\n",
              "      <td>Pencil Sketch Drawing</td>\n",
              "      <td>ART_AND_DESIGN</td>\n",
              "      <td>3.9</td>\n",
              "      <td>136.0</td>\n",
              "      <td>4.6M</td>\n",
              "      <td>10000.0</td>\n",
              "      <td>Free</td>\n",
              "      <td>0.00</td>\n",
              "      <td>Everyone</td>\n",
              "      <td>Art &amp; Design</td>\n",
              "      <td>July 12, 2018</td>\n",
              "      <td>6.0</td>\n",
              "      <td>2.3 and up</td>\n",
              "    </tr>\n",
              "    <tr>\n",
              "      <th>29</th>\n",
              "      <td>Easy Realistic Drawing Tutorial</td>\n",
              "      <td>ART_AND_DESIGN</td>\n",
              "      <td>4.1</td>\n",
              "      <td>223.0</td>\n",
              "      <td>4.2M</td>\n",
              "      <td>100000.0</td>\n",
              "      <td>Free</td>\n",
              "      <td>0.00</td>\n",
              "      <td>Everyone</td>\n",
              "      <td>Art &amp; Design</td>\n",
              "      <td>August 22, 2017</td>\n",
              "      <td>1.0</td>\n",
              "      <td>2.3 and up</td>\n",
              "    </tr>\n",
              "    <tr>\n",
              "      <th>30</th>\n",
              "      <td>Pink Silver Bow Keyboard Theme</td>\n",
              "      <td>ART_AND_DESIGN</td>\n",
              "      <td>4.2</td>\n",
              "      <td>1120.0</td>\n",
              "      <td>9.2M</td>\n",
              "      <td>100000.0</td>\n",
              "      <td>Free</td>\n",
              "      <td>0.00</td>\n",
              "      <td>Everyone</td>\n",
              "      <td>Art &amp; Design</td>\n",
              "      <td>July 12, 2018</td>\n",
              "      <td>6.7.12.2018</td>\n",
              "      <td>4.0.3 and up</td>\n",
              "    </tr>\n",
              "    <tr>\n",
              "      <th>8888</th>\n",
              "      <td>Spring flowers theme couleurs d t space</td>\n",
              "      <td>ART_AND_DESIGN</td>\n",
              "      <td>5.0</td>\n",
              "      <td>1.0</td>\n",
              "      <td>2.9M</td>\n",
              "      <td>100.0</td>\n",
              "      <td>Free</td>\n",
              "      <td>0.00</td>\n",
              "      <td>Everyone</td>\n",
              "      <td>Art &amp; Design</td>\n",
              "      <td>April 18, 2018</td>\n",
              "      <td>1.0.2</td>\n",
              "      <td>4.0 and up</td>\n",
              "    </tr>\n",
              "  </tbody>\n",
              "</table>\n",
              "<p>65 rows × 13 columns</p>\n",
              "</div>"
            ],
            "text/plain": [
              "                                                    App  ...         Android Ver\n",
              "4755  X Launcher Pro: PhoneX Theme, OS11 Control Center  ...          4.1 and up\n",
              "4759  X Launcher Pro - IOS Style Theme & Control Center  ...          4.1 and up\n",
              "4764     X Launcher Prime: With OS Style Theme & No Ads  ...          4.1 and up\n",
              "0        Photo Editor & Candy Camera & Grid & ScrapBook  ...        4.0.3 and up\n",
              "42                           Textgram - write on photos  ...  Varies with device\n",
              "...                                                 ...  ...                 ...\n",
              "27                                Animated Photo Editor  ...        4.0.3 and up\n",
              "28                                Pencil Sketch Drawing  ...          2.3 and up\n",
              "29                      Easy Realistic Drawing Tutorial  ...          2.3 and up\n",
              "30                       Pink Silver Bow Keyboard Theme  ...        4.0.3 and up\n",
              "8888            Spring flowers theme couleurs d t space  ...          4.0 and up\n",
              "\n",
              "[65 rows x 13 columns]"
            ]
          },
          "metadata": {},
          "execution_count": 34
        }
      ]
    },
    {
      "cell_type": "code",
      "metadata": {
        "id": "9wghxAgByrRR"
      },
      "source": [
        "df_copy.to_csv('/content/drive/MyDrive/capstone project/mk.csv')\n"
      ],
      "execution_count": null,
      "outputs": []
    }
  ]
}